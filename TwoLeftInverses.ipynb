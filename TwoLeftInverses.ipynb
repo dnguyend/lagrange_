{
  "nbformat": 4,
  "nbformat_minor": 0,
  "metadata": {
    "colab": {
      "name": "TwoLeftInverses.ipynb",
      "provenance": [],
      "include_colab_link": true
    },
    "kernelspec": {
      "name": "python3",
      "display_name": "Python 3"
    }
  },
  "cells": [
    {
      "cell_type": "markdown",
      "metadata": {
        "id": "view-in-github",
        "colab_type": "text"
      },
      "source": [
        "<a href=\"https://colab.research.google.com/github/dnguyend/lagrange_rayleigh/blob/master/TwoLeftInverses.ipynb\" target=\"_parent\"><img src=\"https://colab.research.google.com/assets/colab-badge.svg\" alt=\"Open In Colab\"/></a>"
      ]
    },
    {
      "cell_type": "markdown",
      "metadata": {
        "id": "lyj7ONv-xkQr",
        "colab_type": "text"
      },
      "source": [
        "$\\newcommand{\\bC}{\\boldsymbol{C}}$\n",
        "$\\newcommand{\\bF}{\\boldsymbol{F}}$\n",
        "$\\newcommand{\\bI}{\\boldsymbol{I}}$\n",
        "$\\newcommand{\\bJ}{\\boldsymbol{J}}$\n",
        "$\\newcommand{\\bJtw}{\\boldsymbol{J}^{(2)}}$\n",
        "$\\newcommand{\\bJthr}{\\boldsymbol{J}^{(3)}}$\n",
        "$\\newcommand{\\bx}{\\boldsymbol{x}}$\n",
        "$\\newcommand{\\bH}{\\boldsymbol{H}}$\n",
        "$\\newcommand{\\bL}{\\boldsymbol{L}}$\n",
        "$\\newcommand{\\bT}{\\boldsymbol{T}}$\n",
        "$\\newcommand{\\bLx}{\\boldsymbol{L}_{\\bx}}$\n",
        "$\\newcommand{\\blbd}{\\boldsymbol{\\lambda}}$\n",
        "$\\newcommand{\\cL}{\\mathcal{L}}$\n",
        "$\\newcommand{\\PibH}{\\boldsymbol{\\Pi}_{\\bH}}$\n",
        "\n",
        "# Two left inverses:\n",
        "\n",
        "We want to demonstrate the fact that there are a lot of freedom to choose the Rayleigh quotient and the projection operator.\n",
        "For an equation of form\n",
        "$$\\bL(\\bx, \\blbd)=\\bF(\\bx) - \\bH(\\bx)\\blbd = 0$$\n",
        "with a constraint $\\bC(\\bx) = 0$\n",
        "We can pick a left inverse $\\bH^-_1$ to compute $\\blbd = \\bH^-_1(\\bx)\\bF(\\bx)$, and another left inverse $\\bH^-_2$ in the Riemannian Newton equation:\n",
        "$$\\PibH = \\bI - \\bH\\bH^-_2$$\n",
        "$$\\PibH \\bLx(\\bx,\\blbd) = - \\bL(\\bx, \\blbd)$$\n",
        "\n",
        "In the following, we consider the case $\\bC(\\bx) = \\bx^T\\bx-1$, the unit sphere with the function given as the tensor $\\bT(\\bI,\\bx,\\cdots,\\bx).$ and consider the eigentensor problem:\n",
        "$$\\bL(\\bx, \\blbd) \\bT(\\bI,\\bx,\\cdots,\\bx) - \\bx\\blbd =0$$\n",
        "Let $A, B$ be two non degenerate matrices, and $a, b$ be two nonnegative integers\n",
        "For the Rayleight quotient we consider the left inverse:\n",
        "$$\\bH_1^-(\\bx) = ((\\bx^a)^T A\\bx)^{-1}(\\bx^a)^T A$$\n",
        "So \n",
        "$$\\blbd = \\bH_1^-(\\bx) \\bT(\\bI,\\bx,\\cdots,\\bx)$$\n",
        "For the projection $\\PibH$ we consider\n",
        "$$\\bH_2^-(\\bx) = ((\\bx^b)^T B\\bx)^{-1}(\\bx^b)^T B$$\n",
        "We consider the Riemannian Newton algorithm with these two left inverses:\n"
      ]
    },
    {
      "cell_type": "code",
      "metadata": {
        "id": "ajuXD-ig4LlT",
        "colab_type": "code",
        "colab": {
          "base_uri": "https://localhost:8080/",
          "height": 34
        },
        "outputId": "5cb136c9-5c1f-453a-e68c-fb2370c8b971"
      },
      "source": [
        "!git clone https://github.com/dnguyend/lagrange_rayleigh"
      ],
      "execution_count": 1,
      "outputs": [
        {
          "output_type": "stream",
          "text": [
            "fatal: destination path 'lagrange_rayleigh' already exists and is not an empty directory.\n"
          ],
          "name": "stdout"
        }
      ]
    },
    {
      "cell_type": "code",
      "metadata": {
        "id": "x6nJZi5MxRrx",
        "colab_type": "code",
        "colab": {}
      },
      "source": [
        "import numpy as np\n",
        "from numpy.linalg import norm, solve\n",
        "from numpy import eye\n",
        "from scipy.linalg import null_space\n",
        "from lagrange_rayleigh.core import utils\n",
        "from lagrange_rayleigh.core.eigen_tensor_solver import symmetric_tv_mode_product\n",
        "    \n",
        "\n",
        "def ortho_sphere_power(\n",
        "        T, max_itr, delta, x_init=None, a=None,\n",
        "        b=None, AA=None, BB=None):\n",
        "    \"\"\"Tangent form rayleigh with two different left inverses\n",
        "    for this first one, let a, b be  two odd integers\n",
        "    then x^a.T x and x^b.T x are positive.\n",
        "    left inverse for lamda is (xt^a x)^{-1}AAxt^a AA\n",
        "    the left inverse for projection is (xt^b x)^{-1}BB xt^b BB\n",
        "    \"\"\"\n",
        "    def pw(x, a):\n",
        "        if a == 0:\n",
        "            return np.ones_like(x)\n",
        "        ret = x.copy()\n",
        "        for i in range(a-1):\n",
        "            ret *= x\n",
        "        return ret\n",
        "        \n",
        "    # get tensor dimensionality and order\n",
        "    n_vec = T.shape\n",
        "    m = len(n_vec)\n",
        "    n = T.shape[0]\n",
        "    R = 1\n",
        "\n",
        "    if a is None:\n",
        "        a = 1\n",
        "    if b is None:\n",
        "        b = 1\n",
        "    if BB is None:\n",
        "        BB = eye(n)\n",
        "    if AA is None:\n",
        "        AA = eye(n)\n",
        "\n",
        "    converge = False\n",
        "\n",
        "    # if not given as input, randomly initialize\n",
        "    if x_init is None:\n",
        "        x_init = np.random.randn(n)\n",
        "        x_init = x_init/norm(x_init)\n",
        "\n",
        "    # init lambda_(k) and x_(k)\n",
        "    x_k = x_init / np.linalg.norm(x_init)\n",
        "    T_x_m_2 = symmetric_tv_mode_product(T, x_k, m-2)\n",
        "    T_x_m_1 = T_x_m_2 @ x_k\n",
        "    # x_t_A_x = x_k.T @ x_k\n",
        "    lbd = (pw(x_k.T, a) @ AA @ T_x_m_1) / (pw(x_k.T, a) @ AA @ x_k)\n",
        "    ctr = 0\n",
        "\n",
        "    while (R > delta) and (ctr < max_itr):\n",
        "        # compute T(I,I,x_k,...,x_k), T(I,x_k,...,x_k) and g(x_k)\n",
        "        g = -lbd * x_k + T_x_m_1\n",
        "        # compute Hessian H(x_k)\n",
        "        H = (m-1)*T_x_m_2-lbd*eye(n)\n",
        "        xB = pw(x_k, b).reshape(1, -1) @ BB\n",
        "        U_x_k_b = null_space(xB)\n",
        "        U_x_k = null_space(x_k.reshape(1, -1))\n",
        "        H_p = U_x_k_b.T @ H @ U_x_k\n",
        "        # fix eigenvector\n",
        "        y = U_x_k @ solve(H_p, -U_x_k_b.T @ g)\n",
        "        x_k_n = (x_k + y)/(np.linalg.norm(x_k + y))\n",
        "\n",
        "        #  update residual and lbd\n",
        "        R = norm(x_k-x_k_n)\n",
        "        x_k = x_k_n\n",
        "        T_x_m_2 = symmetric_tv_mode_product(T, x_k, m-2)\n",
        "        T_x_m_1 = T_x_m_2 @ x_k\n",
        "\n",
        "        lbd = (pw(x_k.T, a) @ AA @ T_x_m_1) / (pw(x_k.T, a) @ AA @ x_k)\n",
        "        # print('ctr=%d lbd=%f' % (ctr, lbd))\n",
        "        ctr += 1\n",
        "    x = x_k\n",
        "    err = norm(symmetric_tv_mode_product(\n",
        "        T, x, m-1) - lbd * x)\n",
        "\n",
        "    if ctr < max_itr:\n",
        "        converge = True\n",
        "\n",
        "    return x, lbd, ctr, converge, err\n"
      ],
      "execution_count": 0,
      "outputs": []
    },
    {
      "cell_type": "markdown",
      "metadata": {
        "id": "XG-VA1x95TRt",
        "colab_type": "text"
      },
      "source": [
        "We see the the separate choices of left inverse still give a fast convergence algorithm:"
      ]
    },
    {
      "cell_type": "code",
      "metadata": {
        "id": "89pJQMkm5Ohi",
        "colab_type": "code",
        "colab": {
          "base_uri": "https://localhost:8080/",
          "height": 357
        },
        "outputId": "37b2caf6-5cde-4cbd-b9ce-e7ded1f31045"
      },
      "source": [
        "  \n",
        "  n = 10\n",
        "  m = 3\n",
        "  tol = 1e-10\n",
        "  max_itr = 200\n",
        "  np.random.seed(0)\n",
        "  n_test = 10\n",
        "  for i in range(n_test):\n",
        "      a = np.random.randint(0, 5)\n",
        "      b = np.random.randint(0, 5)\n",
        "      x_init = np.random.randn(n)\n",
        "      x_init /= np.linalg.norm(x_init)\n",
        "      BB = utils.gen_random_symmetric_pos(n)\n",
        "      AA = utils.gen_random_symmetric_pos(n)\n",
        "\n",
        "      T = utils.generate_symmetric_tensor(n, m)\n",
        "      x, lbd, ctr, converge, err = ortho_sphere_power(\n",
        "          T, max_itr, tol, x_init, a=a,\n",
        "          b=b, AA=AA, BB=BB)\n",
        "      print('x=%s, lbd=%f, ctr=%d, converge=%d, err=%f' % (\n",
        "          str(x), lbd, ctr, converge, err))\n"
      ],
      "execution_count": 6,
      "outputs": [
        {
          "output_type": "stream",
          "text": [
            "x=[0.3086719  0.3131101  0.32540478 0.31263685 0.32890518 0.31959297\n",
            " 0.314951   0.26865241 0.30468664 0.35851523], lbd=16.482988, ctr=14, converge=1, err=0.000000\n",
            "x=[-0.34087415 -0.27923109 -0.33199413 -0.31457023 -0.2997952  -0.30388138\n",
            " -0.33195865 -0.31484761 -0.31845993 -0.3220201 ], lbd=-16.386986, ctr=13, converge=1, err=0.000000\n",
            "x=[0.28937886 0.31311781 0.32097044 0.34686254 0.3193481  0.34330286\n",
            " 0.28451378 0.30959818 0.33163879 0.29708247], lbd=16.237043, ctr=17, converge=1, err=0.000000\n",
            "x=[0.28897953 0.35212553 0.28557277 0.34409407 0.32312788 0.31224425\n",
            " 0.30619494 0.30813692 0.33105809 0.30386616], lbd=16.837899, ctr=14, converge=1, err=0.000000\n",
            "x=[-0.29404104 -0.32688864 -0.31055265 -0.31938101 -0.30648427 -0.30770691\n",
            " -0.28010165 -0.32443913 -0.31621864 -0.36865762], lbd=-15.564369, ctr=14, converge=1, err=0.000000\n",
            "x=[-0.35666234 -0.28240407 -0.33414726 -0.30370524 -0.35245732 -0.27056948\n",
            " -0.30865049 -0.2853069  -0.31352692 -0.34168752], lbd=-16.331798, ctr=16, converge=1, err=0.000000\n",
            "x=[-0.29950458 -0.32103297 -0.30333626 -0.32615195 -0.32343381 -0.30717174\n",
            " -0.31938001 -0.34367855 -0.30857601 -0.30748212], lbd=-17.008213, ctr=12, converge=1, err=0.000000\n",
            "x=[-0.32217613 -0.32633417 -0.3149998  -0.31372926 -0.30472919 -0.29418716\n",
            " -0.31018639 -0.29722385 -0.34727259 -0.32786551], lbd=-15.502968, ctr=14, converge=1, err=0.000000\n",
            "x=[0.33508902 0.29075166 0.2901336  0.29446346 0.34636803 0.31293379\n",
            " 0.32467942 0.30321244 0.35275226 0.30431159], lbd=16.332867, ctr=17, converge=1, err=0.000000\n",
            "x=[0.32025502 0.30521545 0.28988449 0.31864457 0.30614771 0.29859316\n",
            " 0.3535242  0.36132681 0.31663975 0.28289827], lbd=15.856855, ctr=11, converge=1, err=0.000000\n"
          ],
          "name": "stdout"
        }
      ]
    }
  ]
}