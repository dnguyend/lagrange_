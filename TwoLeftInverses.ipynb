{
  "nbformat": 4,
  "nbformat_minor": 0,
  "metadata": {
    "colab": {
      "name": "TwoLeftInverses.ipynb",
      "provenance": [],
      "include_colab_link": true
    },
    "kernelspec": {
      "name": "python3",
      "display_name": "Python 3"
    }
  },
  "cells": [
    {
      "cell_type": "markdown",
      "metadata": {
        "id": "view-in-github",
        "colab_type": "text"
      },
      "source": [
        "<a href=\"https://colab.research.google.com/github/dnguyend/lagrange_rayleigh/blob/master/TwoLeftInverses.ipynb\" target=\"_parent\"><img src=\"https://colab.research.google.com/assets/colab-badge.svg\" alt=\"Open In Colab\"/></a>"
      ]
    },
    {
      "cell_type": "markdown",
      "metadata": {
        "id": "lyj7ONv-xkQr",
        "colab_type": "text"
      },
      "source": [
        "$\\newcommand{\\bC}{\\boldsymbol{C}}$\n",
        "$\\newcommand{\\bF}{\\boldsymbol{F}}$\n",
        "$\\newcommand{\\bI}{\\boldsymbol{I}}$\n",
        "$\\newcommand{\\bJ}{\\boldsymbol{J}}$\n",
        "$\\newcommand{\\bJtw}{\\boldsymbol{J}^{(2)}}$\n",
        "$\\newcommand{\\bJthr}{\\boldsymbol{J}^{(3)}}$\n",
        "$\\newcommand{\\bx}{\\boldsymbol{x}}$\n",
        "$\\newcommand{\\bH}{\\boldsymbol{H}}$\n",
        "$\\newcommand{\\bL}{\\boldsymbol{L}}$\n",
        "$\\newcommand{\\bT}{\\boldsymbol{T}}$\n",
        "$\\newcommand{\\bLx}{\\boldsymbol{L}_{\\bx}}$\n",
        "$\\newcommand{\\blbd}{\\boldsymbol{\\lambda}}$\n",
        "$\\newcommand{\\cL}{\\mathcal{L}}$\n",
        "$\\newcommand{\\PibH}{\\boldsymbol{\\Pi}_{\\bH}}$\n",
        "\n",
        "# Two left inverses:\n",
        "\n",
        "We want to demonstrate the fact that there are a lot of freedom to choose the Rayleigh quotient and the projection operator.\n",
        "For an equation of form\n",
        "$$\\bL(\\bx, \\blbd)=\\bF(\\bx) - \\bH(\\bx)\\blbd = 0$$\n",
        "with a constraint $\\bC(\\bx) = 0$\n",
        "We can pick a left inverse $\\bH^-_1$ to compute $\\blbd = \\bH^-_1(\\bx)\\bF(\\bx)$, and another left inverse $\\bH^-_2$ in the Riemannian Newton equation:\n",
        "$$\\PibH = \\bI - \\bH\\bH^-_2$$\n",
        "$$\\PibH \\bLx(\\bx,\\blbd) = - \\bL(\\bx, \\blbd)$$\n",
        "\n",
        "**THE LEFT INVERSE RELATED TO LAMBDA CONTROLS THE RATE OF CONVERGENCE, THE LEFT INVERSE FOR THE PROJECTION DOES NOT CHANGE THE RATE OF CONVERGENCE**\n",
        "\n",
        "We could see this from the fact that in the Schur form solution, only lambda appears.\n",
        "\n",
        "In the following, we consider the case $\\bC(\\bx) = \\bx^T\\bx-1$, the unit sphere with the function given as the tensor $\\bT(\\bI,\\bx,\\cdots,\\bx).$ and consider the eigentensor problem:\n",
        "$$\\bL(\\bx, \\blbd) \\bT(\\bI,\\bx,\\cdots,\\bx) - \\bx\\blbd =0$$\n",
        "Let $A, B$ be two non degenerate matrices, and $a, b$ be two nonnegative integers\n",
        "For the Rayleight quotient we consider the left inverse:\n",
        "$$\\bH_1^-(\\bx) = ((\\bx^a)^T A\\bx)^{-1}(\\bx^a)^T A$$\n",
        "So \n",
        "$$\\blbd = \\bH_1^-(\\bx) \\bT(\\bI,\\bx,\\cdots,\\bx)$$\n",
        "For the projection $\\PibH$ we consider\n",
        "$$\\bH_2^-(\\bx) = ((\\bx^b)^T B\\bx)^{-1}(\\bx^b)^T B$$\n",
        "We consider the Riemannian Newton algorithm with these two left inverses:\n"
      ]
    },
    {
      "cell_type": "code",
      "metadata": {
        "id": "ajuXD-ig4LlT",
        "colab_type": "code",
        "outputId": "e04a5ee8-0d0a-4157-ec2c-50f6ae426579",
        "colab": {
          "base_uri": "https://localhost:8080/",
          "height": 136
        }
      },
      "source": [
        "!git clone https://github.com/dnguyend/lagrange_rayleigh"
      ],
      "execution_count": 2,
      "outputs": [
        {
          "output_type": "stream",
          "text": [
            "Cloning into 'lagrange_rayleigh'...\n",
            "remote: Enumerating objects: 217, done.\u001b[K\n",
            "remote: Counting objects: 100% (217/217), done.\u001b[K\n",
            "remote: Compressing objects: 100% (152/152), done.\u001b[K\n",
            "remote: Total 217 (delta 113), reused 139 (delta 60), pack-reused 0\u001b[K\n",
            "Receiving objects: 100% (217/217), 14.30 MiB | 16.89 MiB/s, done.\n",
            "Resolving deltas: 100% (113/113), done.\n"
          ],
          "name": "stdout"
        }
      ]
    },
    {
      "cell_type": "code",
      "metadata": {
        "id": "x6nJZi5MxRrx",
        "colab_type": "code",
        "colab": {}
      },
      "source": [
        "import numpy as np\n",
        "from numpy.linalg import norm, solve\n",
        "from numpy import eye\n",
        "from scipy.linalg import null_space\n",
        "from lagrange_rayleigh.core import utils\n",
        "from lagrange_rayleigh.core.eigen_tensor_solver import symmetric_tv_mode_product\n",
        "    \n",
        "\n",
        "def ortho_sphere_power(\n",
        "        T, max_itr, delta, x_init=None, a=None,\n",
        "        b=None, AA=None, BB=None, by_line=False):\n",
        "    \"\"\"Tangent form rayleigh with two different left inverses\n",
        "    for this first one, let a, b be  two odd integers\n",
        "    then x^a.T x and x^b.T x are positive.\n",
        "    left inverse for lamda is (xt^a x)^{-1}AAxt^a AA\n",
        "    the left inverse for projection is (xt^b x)^{-1}BB xt^b BB\n",
        "    \"\"\"\n",
        "    def pw(x, a):\n",
        "        if a == 0:\n",
        "            return np.ones_like(x)\n",
        "        ret = x.copy()\n",
        "        for i in range(a-1):\n",
        "            ret *= x\n",
        "        return ret\n",
        "        \n",
        "    # get tensor dimensionality and order\n",
        "    n_vec = T.shape\n",
        "    m = len(n_vec)\n",
        "    n = T.shape[0]\n",
        "    R = 1\n",
        "\n",
        "    if a is None:\n",
        "        a = 1\n",
        "    if b is None:\n",
        "        b = 1\n",
        "    if BB is None:\n",
        "        BB = eye(n)\n",
        "    if AA is None:\n",
        "        AA = eye(n)\n",
        "\n",
        "    converge = False\n",
        "\n",
        "    # if not given as input, randomly initialize\n",
        "    if x_init is None:\n",
        "        x_init = np.random.randn(n)\n",
        "        x_init = x_init/norm(x_init)\n",
        "\n",
        "    # init lambda_(k) and x_(k)\n",
        "    x_k = x_init / np.linalg.norm(x_init)\n",
        "    T_x_m_2 = symmetric_tv_mode_product(T, x_k, m-2)\n",
        "    T_x_m_1 = T_x_m_2 @ x_k\n",
        "    # x_t_A_x = x_k.T @ x_k\n",
        "    lbd = (pw(x_k.T, a) @ AA @ T_x_m_1) / (pw(x_k.T, a) @ AA @ x_k)\n",
        "    ctr = 0\n",
        "\n",
        "    while (R > delta) and (ctr < max_itr):\n",
        "        # compute T(I,I,x_k,...,x_k), T(I,x_k,...,x_k) and g(x_k)\n",
        "        g = -lbd * x_k + T_x_m_1\n",
        "        # compute Hessian H(x_k)\n",
        "        H = (m-1)*T_x_m_2-lbd*eye(n)\n",
        "        xB = pw(x_k, b).reshape(1, -1) @ BB\n",
        "        PiB = np.eye(n) - x_k.reshape(-1, 1) @ xB.reshape(1, -1) /(xB @ x_k)\n",
        "        U_x_k_b = null_space(xB)\n",
        "        U_x_k = null_space(x_k.reshape(1, -1))\n",
        "        H_p = U_x_k_b.T @ PiB @ H @ U_x_k\n",
        "        # fix eigenvector\n",
        "        y = U_x_k @ solve(H_p, -U_x_k_b.T @ PiB @ g)\n",
        "        if by_line:\n",
        "          print('y=%s' % str(y))\n",
        "        x_k_n = (x_k + y)/(np.linalg.norm(x_k + y))\n",
        "\n",
        "        #  update residual and lbd\n",
        "        R = norm(x_k-x_k_n)\n",
        "        x_k = x_k_n\n",
        "        T_x_m_2 = symmetric_tv_mode_product(T, x_k, m-2)\n",
        "        T_x_m_1 = T_x_m_2 @ x_k\n",
        "\n",
        "        lbd = (pw(x_k.T, a) @ AA @ T_x_m_1) / (pw(x_k.T, a) @ AA @ x_k)\n",
        "        # print('ctr=%d lbd=%f' % (ctr, lbd))\n",
        "        ctr += 1\n",
        "    x = x_k\n",
        "    err = norm(symmetric_tv_mode_product(\n",
        "        T, x, m-1) - lbd * x)\n",
        "\n",
        "    if ctr < max_itr:\n",
        "        converge = True\n",
        "\n",
        "    return x, lbd, ctr, converge, err\n"
      ],
      "execution_count": 0,
      "outputs": []
    },
    {
      "cell_type": "markdown",
      "metadata": {
        "id": "XG-VA1x95TRt",
        "colab_type": "text"
      },
      "source": [
        "We see the the separate choices of left inverse still give a fast convergence algorithm:"
      ]
    },
    {
      "cell_type": "code",
      "metadata": {
        "id": "89pJQMkm5Ohi",
        "colab_type": "code",
        "outputId": "472f2448-c148-4d9b-e848-163351320199",
        "colab": {
          "base_uri": "https://localhost:8080/",
          "height": 357
        }
      },
      "source": [
        "  \n",
        "  n = 10\n",
        "  m = 3\n",
        "  tol = 1e-10\n",
        "  max_itr = 200\n",
        "  np.random.seed(0)\n",
        "  n_test = 10\n",
        "  for i in range(n_test):\n",
        "      a = np.random.randint(0, 5)\n",
        "      b = np.random.randint(0, 5)\n",
        "      x_init = np.random.randn(n)\n",
        "      x_init /= np.linalg.norm(x_init)\n",
        "      BB = utils.gen_random_symmetric_pos(n)\n",
        "      AA = utils.gen_random_symmetric_pos(n)\n",
        "\n",
        "      T = utils.generate_symmetric_tensor(n, m)\n",
        "      x, lbd, ctr, converge, err = ortho_sphere_power(\n",
        "          T, max_itr, tol, x_init, a=a,\n",
        "          b=b, AA=AA, BB=BB)\n",
        "      print('x=%s, lbd=%f, ctr=%d, converge=%d, err=%f' % (\n",
        "          str(x), lbd, ctr, converge, err))\n"
      ],
      "execution_count": 43,
      "outputs": [
        {
          "output_type": "stream",
          "text": [
            "x=[ 0.29856281  0.24713928  0.36620796 -0.48561051  0.10320006 -0.6138202\n",
            " -0.02626536 -0.13007225 -0.27050474  0.04061554], lbd=1.529224, ctr=11, converge=1, err=0.000000\n",
            "x=[0.34087415 0.27923109 0.33199413 0.31457023 0.2997952  0.30388138\n",
            " 0.33195865 0.31484761 0.31845993 0.3220201 ], lbd=16.386986, ctr=31, converge=1, err=0.000000\n",
            "x=[-0.02977056 -0.06175282 -0.00241597  0.51796464  0.32407133 -0.34131946\n",
            " -0.14831985 -0.65451882  0.2301945  -0.04585558], lbd=1.010379, ctr=17, converge=1, err=0.000000\n",
            "x=[-0.00608114  0.59366995 -0.39779547 -0.34257716 -0.23540459 -0.06312969\n",
            "  0.26614991  0.33923489 -0.08522748  0.34545358], lbd=2.383691, ctr=27, converge=1, err=0.000000\n",
            "x=[-0.29404104 -0.32688864 -0.31055265 -0.31938101 -0.30648427 -0.30770691\n",
            " -0.28010165 -0.32443913 -0.31621864 -0.36865762], lbd=-15.564369, ctr=23, converge=1, err=0.000000\n",
            "x=[ 0.39221132 -0.17581908  0.35237569  0.39380003  0.08897726 -0.21461213\n",
            "  0.24978638 -0.28694705 -0.57487463  0.08260046], lbd=-3.094310, ctr=31, converge=1, err=0.000000\n",
            "x=[-0.30382631 -0.15891858 -0.07323766  0.32986817 -0.5009271   0.04423794\n",
            "  0.03496239  0.40765145  0.05483299  0.58733637], lbd=2.476902, ctr=20, converge=1, err=0.000000\n",
            "x=[-0.32217613 -0.32633417 -0.3149998  -0.31372926 -0.30472919 -0.29418716\n",
            " -0.31018639 -0.29722385 -0.34727259 -0.32786551], lbd=-15.502968, ctr=25, converge=1, err=0.000000\n",
            "x=[-0.47726991 -0.15560916 -0.13438973 -0.05526069  0.37701519  0.16647677\n",
            " -0.0021349   0.24192416 -0.08744228  0.70060824], lbd=0.271573, ctr=56, converge=1, err=0.000000\n",
            "x=[0.32025502 0.30521545 0.28988449 0.31864457 0.30614771 0.29859316\n",
            " 0.3535242  0.36132681 0.31663975 0.28289827], lbd=15.856855, ctr=12, converge=1, err=0.000000\n"
          ],
          "name": "stdout"
        }
      ]
    },
    {
      "cell_type": "markdown",
      "metadata": {
        "id": "Q0BjqzJUDhNO",
        "colab_type": "text"
      },
      "source": [
        "## **We note the the left inverse for the projection does not have an effect on convergence - all changes in xB give the same answer as the Schur form. There is a strong effect if we change A, the left inverse related to lambda.**"
      ]
    },
    {
      "cell_type": "code",
      "metadata": {
        "id": "zVxCY9qQdfvP",
        "colab_type": "code",
        "colab": {
          "base_uri": "https://localhost:8080/",
          "height": 272
        },
        "outputId": "738f4433-3876-4f08-baa5-6766ad5cd04c"
      },
      "source": [
        "  \n",
        "  n = 15\n",
        "  m = 3\n",
        "  tol = 1e-10\n",
        "  max_itr = 200\n",
        "  np.random.seed(0)\n",
        "  n_test = 5\n",
        "\n",
        "  x_init = np.random.randn(n)\n",
        "  x_init /= np.linalg.norm(x_init)\n",
        "  a = 1\n",
        "  AA = np.eye(n)\n",
        "  # a = np.random.randint(0, 5)\n",
        "  # AA = utils.gen_random_symmetric_pos(n)\n",
        "  T = utils.generate_symmetric_tensor(n, m)\n",
        "  for i in range(n_test):\n",
        "      b = np.random.randint(0, 7)\n",
        "      BB = utils.gen_random_symmetric_pos(n)\n",
        "      # BB = np.eye(n)\n",
        "      # by_line will print the iteration line by line\n",
        "      x, lbd, ctr, converge, err = ortho_sphere_power(\n",
        "          T, max_itr, tol, x_init, a=a,\n",
        "          b=b, AA=AA, BB=BB, by_line=False)\n",
        "      print('b=%d x=%s, lbd=%f, ctr=%d, converge=%d, err=%f' % (\n",
        "          b,  str(x), lbd, ctr, converge, err))\n"
      ],
      "execution_count": 52,
      "outputs": [
        {
          "output_type": "stream",
          "text": [
            "b=1 x=[ 0.04964858 -0.08937529 -0.00552724  0.21692838  0.09315258  0.03618049\n",
            "  0.34047679 -0.34162985  0.69346359 -0.13014038 -0.12040857  0.35724421\n",
            " -0.15364912 -0.17791238  0.06801464], lbd=1.394927, ctr=16, converge=1, err=0.000000\n",
            "b=5 x=[ 0.04964858 -0.08937529 -0.00552724  0.21692838  0.09315258  0.03618049\n",
            "  0.34047679 -0.34162985  0.69346359 -0.13014038 -0.12040857  0.35724421\n",
            " -0.15364912 -0.17791238  0.06801464], lbd=1.394927, ctr=16, converge=1, err=0.000000\n",
            "b=3 x=[ 0.04964858 -0.08937529 -0.00552724  0.21692838  0.09315258  0.03618049\n",
            "  0.34047679 -0.34162985  0.69346359 -0.13014038 -0.12040857  0.35724421\n",
            " -0.15364912 -0.17791238  0.06801464], lbd=1.394927, ctr=16, converge=1, err=0.000000\n",
            "b=2 x=[ 0.04964858 -0.08937529 -0.00552724  0.21692838  0.09315258  0.03618049\n",
            "  0.34047679 -0.34162985  0.69346359 -0.13014038 -0.12040857  0.35724421\n",
            " -0.15364912 -0.17791238  0.06801464], lbd=1.394927, ctr=16, converge=1, err=0.000000\n",
            "b=2 x=[ 0.04964858 -0.08937529 -0.00552724  0.21692838  0.09315258  0.03618049\n",
            "  0.34047679 -0.34162985  0.69346359 -0.13014038 -0.12040857  0.35724421\n",
            " -0.15364912 -0.17791238  0.06801464], lbd=1.394927, ctr=16, converge=1, err=0.000000\n"
          ],
          "name": "stdout"
        }
      ]
    },
    {
      "cell_type": "code",
      "metadata": {
        "id": "4XoyIIYWehto",
        "colab_type": "code",
        "colab": {
          "base_uri": "https://localhost:8080/",
          "height": 272
        },
        "outputId": "b06bc855-558d-44a0-d92c-5f87c1a17e3b"
      },
      "source": [
        "  \n",
        "  # n = 15\n",
        "  # m = 3\n",
        "  tol = 1e-10\n",
        "  max_itr = 200\n",
        "  np.random.seed(0)\n",
        "  n_test = 5\n",
        "\n",
        "  # x_init = np.random.randn(n)\n",
        "  # x_init /= np.linalg.norm(x_init)\n",
        "  # b = np.random.randint(0, 5)\n",
        "  # BB = utils.gen_random_symmetric_pos(n)\n",
        "  b = 1\n",
        "  BB = np.eye(n)\n",
        "\n",
        "  # T = utils.generate_symmetric_tensor(n, m)\n",
        "  for i in range(n_test):\n",
        "      a = np.random.randint(0, 7)\n",
        "      AA = utils.gen_random_symmetric_pos(n)\n",
        "      # AA = np.eye(n)\n",
        "\n",
        "      x, lbd, ctr, converge, err = ortho_sphere_power(\n",
        "          T, max_itr, tol, x_init, a=a,\n",
        "          b=b, AA=AA, BB=BB, by_line=False)\n",
        "      print('a=%d x=%s, lbd=%f, ctr=%d, converge=%d, err=%f' % (\n",
        "          a, str(x), lbd, ctr, converge, err))\n"
      ],
      "execution_count": 53,
      "outputs": [
        {
          "output_type": "stream",
          "text": [
            "a=4 x=[0.25042159 0.26103617 0.2519741  0.24987413 0.2720132  0.24902325\n",
            " 0.25955763 0.25865254 0.26273021 0.27921937 0.25616251 0.24152512\n",
            " 0.2581056  0.27240664 0.24734178], lbd=28.703310, ctr=7, converge=1, err=0.000000\n",
            "a=6 x=[-0.25042159 -0.26103617 -0.2519741  -0.24987413 -0.2720132  -0.24902325\n",
            " -0.25955763 -0.25865254 -0.26273021 -0.27921937 -0.25616251 -0.24152512\n",
            " -0.2581056  -0.27240664 -0.24734178], lbd=-28.703310, ctr=17, converge=1, err=0.000000\n",
            "a=2 x=[-0.25042159 -0.26103617 -0.2519741  -0.24987413 -0.2720132  -0.24902325\n",
            " -0.25955763 -0.25865254 -0.26273021 -0.27921937 -0.25616251 -0.24152512\n",
            " -0.2581056  -0.27240664 -0.24734178], lbd=-28.703310, ctr=10, converge=1, err=0.000000\n",
            "a=6 x=[-0.25042159 -0.26103617 -0.2519741  -0.24987413 -0.2720132  -0.24902325\n",
            " -0.25955763 -0.25865254 -0.26273021 -0.27921937 -0.25616251 -0.24152512\n",
            " -0.2581056  -0.27240664 -0.24734178], lbd=-28.703310, ctr=33, converge=1, err=0.000000\n",
            "a=6 x=[0.25042159 0.26103617 0.2519741  0.24987413 0.2720132  0.24902325\n",
            " 0.25955763 0.25865254 0.26273021 0.27921937 0.25616251 0.24152512\n",
            " 0.2581056  0.27240664 0.24734178], lbd=28.703310, ctr=7, converge=1, err=0.000000\n"
          ],
          "name": "stdout"
        }
      ]
    }
  ]
}